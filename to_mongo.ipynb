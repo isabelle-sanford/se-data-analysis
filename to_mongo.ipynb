{
 "cells": [
  {
   "cell_type": "code",
   "execution_count": 1,
   "metadata": {},
   "outputs": [],
   "source": [
    "# imports\n",
    "import pymongo\n",
    "import datetime\n",
    "import pandas as pd\n",
    "from bson.json_util import dumps\n",
    "\n",
    "# The default port used by MongoDB is 27017\n",
    "# https://docs.mongodb.com/manual/reference/default-mongodb-port/\n",
    "conn = 'mongodb://localhost:27017'\n",
    "client = pymongo.MongoClient(conn)\n",
    "\n",
    "# Declare the database\n",
    "db = client.se_db\n",
    "\n",
    "# Declare the collections\n",
    "players = db.players_db\n",
    "nonplayers = db.nonplayers_db\n",
    "games = db.games_db"
   ]
  },
  {
   "cell_type": "markdown",
   "metadata": {},
   "source": [
    "### Pull data"
   ]
  },
  {
   "cell_type": "code",
   "execution_count": 2,
   "metadata": {},
   "outputs": [],
   "source": [
    "player_path = \"./datacsvs/CleanPlayerData.csv\"\n",
    "playerdata = pd.read_csv(player_path)\n",
    "realdata = playerdata[playerdata['Alignment'] != '0'] # eventually change to playerdata\n",
    "\n",
    "nonplayer_path = \"./datacsvs/NonPlayerData.csv\"\n",
    "npdata = pd.read_csv(nonplayer_path)\n",
    "\n",
    "gamepath = './datacsvs/CleanGameData.csv'\n",
    "game_data = pd.read_csv(gamepath)\n",
    "\n",
    "# need original data for full list of unique players (thanks Tempus & Rubix)\n",
    "# TODO: do the player ID stuff at the transform stage, not in this file\n",
    "fullpath = './datacsvs/DataTest.csv' \n",
    "fulldata = pd.read_csv(fullpath)"
   ]
  },
  {
   "cell_type": "markdown",
   "metadata": {},
   "source": [
    "### Set up player & game IDs"
   ]
  },
  {
   "cell_type": "code",
   "execution_count": 3,
   "metadata": {},
   "outputs": [],
   "source": [
    "playerlist = fulldata['Player'].unique()\n",
    "player_ids = {p:(i+1) for i,p in enumerate(playerlist)}\n",
    "\n",
    "gamelist = realdata['Game'].unique()\n",
    "game_ids = []\n",
    "for i, g in enumerate(gamelist):\n",
    "    if type(g) == str:\n",
    "        curr_game = {\n",
    "            'str':g,\n",
    "            'id':i,\n",
    "            'format':g[0:2],\n",
    "            'num':g[2:]\n",
    "        }\n",
    "        game_ids.append(curr_game)\n",
    "\n",
    "game_ids_df = pd.DataFrame(game_ids) # TODO again, do this before making CleanGameData"
   ]
  },
  {
   "cell_type": "markdown",
   "metadata": {},
   "source": [
    "### Players (data test) into mongo"
   ]
  },
  {
   "cell_type": "code",
   "execution_count": 4,
   "metadata": {},
   "outputs": [],
   "source": [
    "players.delete_many({}) # clear any stored data\n",
    "\n",
    "stats_list = []\n",
    "for p in realdata.iterrows():\n",
    "    row = p[1] # p[0] is the index of the row, p[1] is the content\n",
    "\n",
    "\n",
    "    # trying to get the game ID (can get grumpy with data mismatches)\n",
    "    try: \n",
    "        curr_id = int(game_ids_df[game_ids_df['str'] == row['Game']].index[0])\n",
    "    except:\n",
    "        print(row)\n",
    "        \n",
    "    pgstat = {\n",
    "        'player_id': player_ids.get(row['person'], 0),\n",
    "        'player_name': row['person'],\n",
    "        'game_id': curr_id,\n",
    "        'game_str': row['Game'],\n",
    "        'alignment': row['Alignment'],\n",
    "        'fOutcome': row['fOutcome'],       \n",
    "    }\n",
    "\n",
    "    # Fill out fields below only if not \"null\"\n",
    "    if type(row['Death']) != str:\n",
    "        pgstat['death'] = '0'\n",
    "    else:\n",
    "        pgstat['death'] = row['Death']\n",
    "    \n",
    "    if row['HitNum'] != '-': # this is one way to deal with blank hitnums but is it a good way?\n",
    "        pgstat['HitNum'] = row['HitNum']\n",
    "        \n",
    "        if row['Hit1'] != '-' :\n",
    "            pgstat['Hit1'] = row['Hit1']\n",
    "            pgstat['HitL'] = row['HitL']\n",
    "            \n",
    "    if row['Inactive'] == 'Y':\n",
    "        pgstat['inactive'] = True\n",
    "    else:\n",
    "        pgstat['inactive'] = False\n",
    "        \n",
    "    if row['Role'] != '-':\n",
    "        pgstat['role'] = row['Role']\n",
    "    \n",
    "    \n",
    "    # stats_list.append(pgstat) # stores same as players db in a list, for ease of testing/debugging\n",
    "    players.insert_one(pgstat)"
   ]
  },
  {
   "cell_type": "code",
   "execution_count": 5,
   "metadata": {},
   "outputs": [],
   "source": [
    "# turn mongo db to json and write to json file\n",
    "json_player_data = dumps(list(players.find()))\n",
    " \n",
    "with open('./datajsons/playerdata.json', 'w') as file: \n",
    "    file.write(json_player_data) "
   ]
  },
  {
   "cell_type": "code",
   "execution_count": 6,
   "metadata": {},
   "outputs": [],
   "source": [
    "# # Verify results (that players is populated accurately):\n",
    "# results = players.find()\n",
    "# for result in results:\n",
    "#     print(result)"
   ]
  },
  {
   "cell_type": "markdown",
   "metadata": {},
   "source": [
    "### Nonplayers (data test) into mongo"
   ]
  },
  {
   "cell_type": "code",
   "execution_count": 7,
   "metadata": {},
   "outputs": [],
   "source": [
    "# TODO: turn the below stuff into a function? probably easier with cleaner incoming data\n",
    "\n",
    "nonplayers.delete_many({})\n",
    "\n",
    "# @TODO: rename row2 and currid2 to more descriptive vars\n",
    "np_stats = []\n",
    "for n in npdata.iterrows():\n",
    "    row2 = n[1]\n",
    "\n",
    "    try: \n",
    "        curr_id2 = int(game_ids_df[game_ids_df['str'] == row2['Game']].index[0])\n",
    "    except:\n",
    "        print(row)\n",
    "        \n",
    "    npgstat = {\n",
    "        'player_id': player_ids.get(row2['person'], 1000),\n",
    "        'player_name': row2['person'],\n",
    "        'game_id': curr_id2,\n",
    "        'game_str': row2['Game'],\n",
    "                \n",
    "    }\n",
    "            \n",
    "    if row2['Spec'] == 'Y':\n",
    "        npgstat['GM'] = False\n",
    "        npgstat['spec'] = True\n",
    "        npgstat['IM'] = False\n",
    "    elif row2['GM'] == 'Y':\n",
    "        npgstat['GM'] = True\n",
    "        npgstat['spec'] = False\n",
    "        npgstat['IM'] = False\n",
    "    else:\n",
    "        npgstat['GM'] = False\n",
    "        npgstat['spec'] = False\n",
    "        npgstat['IM'] = True\n",
    "\n",
    "    \n",
    "    #np_stats.append(npgstat) # for testing & debugging\n",
    "    nonplayers.insert_one(npgstat)\n",
    "    "
   ]
  },
  {
   "cell_type": "code",
   "execution_count": 8,
   "metadata": {},
   "outputs": [],
   "source": [
    "# results = nonplayers.find()\n",
    "# for result in results:\n",
    "#     print(result)"
   ]
  },
  {
   "cell_type": "code",
   "execution_count": 9,
   "metadata": {},
   "outputs": [],
   "source": [
    "# write to nonplayer json\n",
    "json_nonplayer_data = dumps(list(nonplayers.find()))\n",
    "with open('./datajsons/nonplayerdata.json', 'w') as file2: \n",
    "    file2.write(json_nonplayer_data) "
   ]
  },
  {
   "cell_type": "markdown",
   "metadata": {},
   "source": [
    "### Game data (game stats) into mongo"
   ]
  },
  {
   "cell_type": "code",
   "execution_count": 10,
   "metadata": {},
   "outputs": [],
   "source": [
    "\n",
    "# grouping player data by game ID to get aggregate data\n",
    "players_with_ids = realdata.merge(game_ids_df, left_on='Game', right_on='str')\n",
    "grouped_pd = players_with_ids.groupby('id', sort = False)"
   ]
  },
  {
   "cell_type": "code",
   "execution_count": 11,
   "metadata": {},
   "outputs": [],
   "source": [
    "# num players\n",
    "broken_games = grouped_pd['Broken'].value_counts() # Why broken???Each game is either broken or not? this seems like a bad idea\n",
    "game_ids_df['num_players'] = list(broken_games)"
   ]
  },
  {
   "cell_type": "code",
   "execution_count": 12,
   "metadata": {},
   "outputs": [
    {
     "name": "stdout",
     "output_type": "stream",
     "text": [
      "_align\n",
      "_win\n",
      "_death\n",
      "_inactive\n",
      "_broken\n"
     ]
    }
   ],
   "source": [
    "# alignment, faction outcome, death, inactivity, broken - from PlayerData\n",
    "alignment_counts = grouped_pd['Alignment'].value_counts()\n",
    "foutcome_counts = grouped_pd['fOutcome'].value_counts()\n",
    "death_counts = grouped_pd['Death'].value_counts()\n",
    "inactive_counts = grouped_pd['Inactive'].value_counts()\n",
    "broken_counts = grouped_pd['Broken'].value_counts() # and if used broken above why here? what does this do\n",
    "\n",
    "# uhh feel like this should be a dict\n",
    "counts = [alignment_counts, foutcome_counts, death_counts, inactive_counts, broken_counts]\n",
    "count_names = ['_align', '_win', '_death', '_inactive', '_broken']\n",
    "\n",
    "# take each column and merge into game df\n",
    "# (e.g. alignment column might have row {'Village': 30, 'Eliminator': 5})\n",
    "for i, count in enumerate(counts): \n",
    "    #print(count_names[i]) # debugging\n",
    "    count_df = count.unstack().fillna(0) # TODO: tell me what unstack() does, my previous self\n",
    "    game_ids_df = game_ids_df.merge(count_df, how='left', left_index=True, right_index=True, suffixes = ('', count_names[i]))\n",
    "\n"
   ]
  },
  {
   "cell_type": "code",
   "execution_count": 14,
   "metadata": {},
   "outputs": [],
   "source": [
    "# Setting, complexity, # of cycles - from GameData file\n",
    "relevant_gd = game_data[['Setting', 'Game Complexity', '# of Cycles', 'Winning Team']]\n",
    "relevant_gd = relevant_gd.fillna(0)\n",
    "# relevant_gd = relevant_gd[relevant_gd['Setting'] != 0] # relies on apparent fact that setting is always filled in when any of them are\n",
    "\n",
    "game_ids_df = game_ids_df.merge(relevant_gd, how='left', left_index=True, right_index=True)"
   ]
  },
  {
   "cell_type": "code",
   "execution_count": 15,
   "metadata": {},
   "outputs": [],
   "source": [
    "game_ids_df = game_ids_df.fillna(0)"
   ]
  },
  {
   "cell_type": "code",
   "execution_count": 16,
   "metadata": {},
   "outputs": [],
   "source": [
    "# Mod, GM(s), Spec(s) - from Nonplayer data\n",
    "\n",
    "# RESULT: [GMs], Mod, [Specs]\n",
    "\n",
    "mods = [0] * len(game_ids_df)\n",
    "specs = [[] for i in range(len(game_ids_df))]\n",
    "gms = [[] for i in range(len(game_ids_df))]\n",
    "\n",
    "# loop through nonplayers list and put each cell into new field for correct game ID\n",
    "for n in np_stats:\n",
    "#     game_id = n['game_id']\n",
    "#     place = specs[game_id]\n",
    "    if n['IM']:\n",
    "        mods[n['game_id']] = n['player_id']\n",
    "    elif n['spec']:\n",
    "        specs[n['game_id']].append(n['player_id'])\n",
    "    elif n['GM']:\n",
    "        gms[n['game_id']].append(n['player_id'])\n",
    "    else:\n",
    "        print(f\"Problem: {n}\") \n",
    "\n",
    "# to be honest this may be easier than method for players? "
   ]
  },
  {
   "cell_type": "code",
   "execution_count": 17,
   "metadata": {},
   "outputs": [],
   "source": [
    "# GAME DATA INTO MONGO\n",
    "\n",
    "games.delete_many({})\n",
    "\n",
    "game_stats = []\n",
    "\n",
    "# rename certain fields so no identicaly letters\n",
    "# (really with this format why letters? Either descriptive name or ID number reference)\n",
    "align_list = ['G', 'E', 'B', 'F', 'D', 'M', 'N', 'C', 'S']\n",
    "outcome_list = ['L', 'W', 'D_win']\n",
    "death_list = ['E_death', 'L_death', 'V', 'S_death', 'F_death', 'N_death', 'M_death', 'I', 'D_death', 'O']\n",
    "\n",
    "for n in game_ids_df.iterrows():\n",
    "    item = n[1]\n",
    "     \n",
    "    game = item['id']\n",
    "\n",
    "    # loops through columns list and makes dict of nums of each alignment-or-whatever\n",
    "    aligns = {k:item[k] for k in align_list if item[k] > 0}\n",
    "    outcomes = {k:item[k] for k in outcome_list if item[k] > 0}\n",
    "    deaths = {k:item[k] for k in death_list if item[k] > 0}\n",
    "        \n",
    "        \n",
    "    gstat = {\n",
    "\n",
    "        'game_id': item['id'],\n",
    "        'game_str': item['str'],\n",
    "        'format': item['format'],\n",
    "        'game_num': item['num'],\n",
    "#         'broken': item['Broken'],   \n",
    "        'num_players': item['num_players'],\n",
    "        'alignment_counts': aligns,\n",
    "        'outcome_counts': outcomes,\n",
    "        'status_counts': deaths,\n",
    "        'inactives': item['Y'],\n",
    "        'broken': item['Y_broken'],\n",
    "        'mod': mods[game],\n",
    "        'spec': specs[game],\n",
    "        'gm': gms[game],\n",
    "\n",
    "        }\n",
    "    \n",
    "    # adds stuff from gamedata if it exists; a lot of it doesn't oops\n",
    "    if (item['Winning Team'] != 0):\n",
    "        gstat['winner'] = item['Winning Team']\n",
    "    if (item['Winning Team'] != 0):\n",
    "        gstat['setting'] = item['Setting']\n",
    "    if (item['# of Cycles'] != 0):\n",
    "        gstat['length'] = item['# of Cycles']\n",
    "    if (item['Game Complexity'] != 0):\n",
    "        gstat['complexity'] = item['Game Complexity']\n",
    "\n",
    "            \n",
    "                \n",
    "    #game_stats.append(gstat) # for debugging\n",
    "    \n",
    "    games.insert_one(gstat)\n",
    "           "
   ]
  },
  {
   "cell_type": "code",
   "execution_count": 18,
   "metadata": {},
   "outputs": [],
   "source": [
    "# check for success\n",
    "# results = games.find()\n",
    "# for result in results:\n",
    "#     print(result)\n",
    "\n",
    "# print to json\n",
    "json_game_data = dumps(list(games.find()))\n",
    "with open('./datajsons/gamedata.json', 'w') as file3: \n",
    "    file3.write(json_game_data) "
   ]
  },
  {
   "cell_type": "code",
   "execution_count": 19,
   "metadata": {},
   "outputs": [],
   "source": [
    "# @TODO (game data)\n",
    "# 'Eliminators Lynched', 'Eliminators Vig'd' - breakdown by alignment + death type?\n",
    "\n",
    "# thread reply count\n",
    "# start and end dates of game (or at least of thread, though aftermath would be way better - or at least second to last post to avoid closing post lateness)\n",
    "\n",
    "# make things ints where relevant\n",
    "\n",
    "# fix Broken (or wait to fix in source sheet)"
   ]
  },
  {
   "cell_type": "code",
   "execution_count": 29,
   "metadata": {},
   "outputs": [
    {
     "data": {
      "text/plain": [
       "['LG3',\n",
       " 'LG4',\n",
       " 'MR1',\n",
       " 'MR2',\n",
       " 'LG8',\n",
       " 'LG10',\n",
       " 'QF6',\n",
       " 'LG11',\n",
       " 'MR6',\n",
       " 'LG12',\n",
       " 'MR7',\n",
       " 'LG14',\n",
       " 'LG15.1',\n",
       " 'LG15.2',\n",
       " 'MR10',\n",
       " 'QF13',\n",
       " 'LG18',\n",
       " 'LG19',\n",
       " 'LG20',\n",
       " 'LG21',\n",
       " 'MR14',\n",
       " 'QF16',\n",
       " 'MR15',\n",
       " 'LG24',\n",
       " 'LG26',\n",
       " 'LG27',\n",
       " 'LG29',\n",
       " 'MR21',\n",
       " 'LG33',\n",
       " 'LG35',\n",
       " 'MR23',\n",
       " 'LG36',\n",
       " 'LG38',\n",
       " 'LG42',\n",
       " 'LG43',\n",
       " 'MR29',\n",
       " 'LG46',\n",
       " 'QF32',\n",
       " 'QF33.1',\n",
       " 'AG5',\n",
       " 'QF40.1',\n",
       " 'MR38.1',\n",
       " 'LG61',\n",
       " 'LG65']"
      ]
     },
     "execution_count": 29,
     "metadata": {},
     "output_type": "execute_result"
    }
   ],
   "source": [
    "# stats_list\n",
    "# np_stats\n",
    "# game_stats\n",
    "\n",
    "# list of currently marked broken games\n",
    "list(game_ids_df[game_ids_df['Y_broken'] > 0]['str'])"
   ]
  },
  {
   "cell_type": "code",
   "execution_count": null,
   "metadata": {},
   "outputs": [],
   "source": []
  },
  {
   "cell_type": "code",
   "execution_count": null,
   "metadata": {},
   "outputs": [],
   "source": []
  }
 ],
 "metadata": {
  "kernelspec": {
   "display_name": "Python 3",
   "language": "python",
   "name": "python3"
  },
  "language_info": {
   "codemirror_mode": {
    "name": "ipython",
    "version": 3
   },
   "file_extension": ".py",
   "mimetype": "text/x-python",
   "name": "python",
   "nbconvert_exporter": "python",
   "pygments_lexer": "ipython3",
   "version": "3.8.3"
  }
 },
 "nbformat": 4,
 "nbformat_minor": 4
}
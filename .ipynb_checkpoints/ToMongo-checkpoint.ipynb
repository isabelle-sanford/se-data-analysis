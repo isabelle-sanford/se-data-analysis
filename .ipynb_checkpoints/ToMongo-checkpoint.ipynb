{
 "cells": [
  {
   "cell_type": "code",
   "execution_count": 163,
   "metadata": {},
   "outputs": [],
   "source": [
    "# Dependencies\n",
    "import pymongo\n",
    "import datetime\n",
    "import pandas as pd\n",
    "from bson.json_util import dumps\n",
    "\n",
    "# The default port used by MongoDB is 27017\n",
    "# https://docs.mongodb.com/manual/reference/default-mongodb-port/\n",
    "conn = 'mongodb://localhost:27017'\n",
    "client = pymongo.MongoClient(conn)\n",
    "\n",
    "# Declare the database\n",
    "db = client.se_db\n",
    "\n",
    "# Declare the collections\n",
    "players = db.players_db\n",
    "nonplayers = db.nonplayers_db\n",
    "games = db.games_db"
   ]
  },
  {
   "cell_type": "markdown",
   "metadata": {},
   "source": [
    "### Pull data"
   ]
  },
  {
   "cell_type": "code",
   "execution_count": null,
   "metadata": {},
   "outputs": [],
   "source": [
    "player_path = \"datacsvs/CleanPlayerData.csv\"\n",
    "playerdata = pd.read_csv(player_path)\n",
    "\n",
    "nonplayer_path = \"datacsvs/NonPlayerData.csv\"\n",
    "npdata = pd.read_csv(nonplayer_path)\n",
    "\n",
    "gamepath = 'datacsvs/CleanGameData.csv'\n",
    "game_data = pd.read_csv(gamepath)"
   ]
  },
  {
   "cell_type": "markdown",
   "metadata": {},
   "source": [
    "### Set up player & game IDs"
   ]
  },
  {
   "cell_type": "code",
   "execution_count": 92,
   "metadata": {},
   "outputs": [
    {
     "data": {
      "text/html": [
       "<div>\n",
       "<style scoped>\n",
       "    .dataframe tbody tr th:only-of-type {\n",
       "        vertical-align: middle;\n",
       "    }\n",
       "\n",
       "    .dataframe tbody tr th {\n",
       "        vertical-align: top;\n",
       "    }\n",
       "\n",
       "    .dataframe thead th {\n",
       "        text-align: right;\n",
       "    }\n",
       "</style>\n",
       "<table border=\"1\" class=\"dataframe\">\n",
       "  <thead>\n",
       "    <tr style=\"text-align: right;\">\n",
       "      <th></th>\n",
       "      <th>person</th>\n",
       "      <th>Alignment</th>\n",
       "      <th>fOutcome</th>\n",
       "      <th>Hit1</th>\n",
       "      <th>HitL</th>\n",
       "      <th>HitNum</th>\n",
       "      <th>Death</th>\n",
       "      <th>Inactive</th>\n",
       "      <th>gtype</th>\n",
       "      <th>GameNum</th>\n",
       "      <th>Game</th>\n",
       "      <th>Broken</th>\n",
       "      <th>Role</th>\n",
       "    </tr>\n",
       "  </thead>\n",
       "  <tbody>\n",
       "    <tr>\n",
       "      <th>0</th>\n",
       "      <td>Cracknut</td>\n",
       "      <td>G</td>\n",
       "      <td>L</td>\n",
       "      <td>1.0</td>\n",
       "      <td>1.0</td>\n",
       "      <td>1.0</td>\n",
       "      <td>E</td>\n",
       "      <td>N</td>\n",
       "      <td>LG</td>\n",
       "      <td>1.0</td>\n",
       "      <td>LG1</td>\n",
       "      <td>N</td>\n",
       "      <td>Tineye</td>\n",
       "    </tr>\n",
       "    <tr>\n",
       "      <th>1</th>\n",
       "      <td>Edgedancer</td>\n",
       "      <td>G</td>\n",
       "      <td>L</td>\n",
       "      <td>2.0</td>\n",
       "      <td>2.0</td>\n",
       "      <td>1.0</td>\n",
       "      <td>L</td>\n",
       "      <td>N</td>\n",
       "      <td>LG</td>\n",
       "      <td>1.0</td>\n",
       "      <td>LG1</td>\n",
       "      <td>N</td>\n",
       "      <td>Cop</td>\n",
       "    </tr>\n",
       "    <tr>\n",
       "      <th>2</th>\n",
       "      <td>Mailliw73</td>\n",
       "      <td>G</td>\n",
       "      <td>L</td>\n",
       "      <td>4.0</td>\n",
       "      <td>4.0</td>\n",
       "      <td>1.0</td>\n",
       "      <td>L</td>\n",
       "      <td>N</td>\n",
       "      <td>LG</td>\n",
       "      <td>1.0</td>\n",
       "      <td>LG1</td>\n",
       "      <td>N</td>\n",
       "      <td>Regular</td>\n",
       "    </tr>\n",
       "    <tr>\n",
       "      <th>3</th>\n",
       "      <td>Aether</td>\n",
       "      <td>E</td>\n",
       "      <td>W</td>\n",
       "      <td>4.0</td>\n",
       "      <td>4.0</td>\n",
       "      <td>1.0</td>\n",
       "      <td>V</td>\n",
       "      <td>N</td>\n",
       "      <td>LG</td>\n",
       "      <td>1.0</td>\n",
       "      <td>LG1</td>\n",
       "      <td>N</td>\n",
       "      <td>Smoker</td>\n",
       "    </tr>\n",
       "    <tr>\n",
       "      <th>4</th>\n",
       "      <td>Claincy</td>\n",
       "      <td>E</td>\n",
       "      <td>W</td>\n",
       "      <td>-</td>\n",
       "      <td>-</td>\n",
       "      <td>0.0</td>\n",
       "      <td>S</td>\n",
       "      <td>N</td>\n",
       "      <td>LG</td>\n",
       "      <td>1.0</td>\n",
       "      <td>LG1</td>\n",
       "      <td>N</td>\n",
       "      <td>Vote Cancel</td>\n",
       "    </tr>\n",
       "  </tbody>\n",
       "</table>\n",
       "</div>"
      ],
      "text/plain": [
       "       person Alignment fOutcome Hit1 HitL HitNum Death Inactive gtype  \\\n",
       "0    Cracknut         G        L  1.0  1.0    1.0     E        N    LG   \n",
       "1  Edgedancer         G        L  2.0  2.0    1.0     L        N    LG   \n",
       "2   Mailliw73         G        L  4.0  4.0    1.0     L        N    LG   \n",
       "3      Aether         E        W  4.0  4.0    1.0     V        N    LG   \n",
       "4     Claincy         E        W    -    -    0.0     S        N    LG   \n",
       "\n",
       "   GameNum Game Broken         Role  \n",
       "0      1.0  LG1      N       Tineye  \n",
       "1      1.0  LG1      N          Cop  \n",
       "2      1.0  LG1      N      Regular  \n",
       "3      1.0  LG1      N       Smoker  \n",
       "4      1.0  LG1      N  Vote Cancel  "
      ]
     },
     "execution_count": 92,
     "metadata": {},
     "output_type": "execute_result"
    }
   ],
   "source": [
    "realdata = playerdata[playerdata['Alignment'] != '0'] # eventually change to playerdata\n",
    "playerlist = realdata['person'].unique()\n",
    "player_ids = {p:(i+1) for i,p in enumerate(playerlist)}\n",
    "\n",
    "gamelist = realdata['Game'].unique()\n",
    "game_ids = []\n",
    "for i, g in enumerate(gamelist):\n",
    "    if type(g) == str:\n",
    "        curr_game = {\n",
    "            'str':g,\n",
    "            'id':i,\n",
    "            'format':g[0:2],\n",
    "            'num':g[2:]\n",
    "        }\n",
    "        game_ids.append(curr_game)\n",
    "\n",
    "game_ids_df = pd.DataFrame(game_ids)"
   ]
  },
  {
   "cell_type": "markdown",
   "metadata": {},
   "source": [
    "### Players (data test) into mongo"
   ]
  },
  {
   "cell_type": "code",
   "execution_count": 29,
   "metadata": {},
   "outputs": [],
   "source": [
    "players.delete_many({})\n",
    "\n",
    "stats_list = []\n",
    "for p in realdata.iterrows():\n",
    "    row = p[1]\n",
    "\n",
    "\n",
    "    try: \n",
    "        curr_id = int(game_ids_df[game_ids_df['str'] == row['Game']].index[0])\n",
    "    except:\n",
    "        print(row)\n",
    "        \n",
    "    pgstat = {\n",
    "        'player_id': player_ids.get(row['person'], 0),\n",
    "        'player_name': row['person'],\n",
    "        'game_id': curr_id,\n",
    "        'game_str': row['Game'],\n",
    "        'alignment': row['Alignment'],\n",
    "        'fOutcome': row['fOutcome'],       \n",
    "    }\n",
    "    if type(row['Death']) != str:\n",
    "        pgstat['death'] = '0'\n",
    "    else:\n",
    "        pgstat['death'] = row['Death']\n",
    "    \n",
    "    if row['HitNum'] != '-':\n",
    "        pgstat['HitNum'] = row['HitNum']\n",
    "        \n",
    "        if row['Hit1'] != '-' :\n",
    "            pgstat['Hit1'] = row['Hit1']\n",
    "            pgstat['HitL'] = row['HitL']\n",
    "            \n",
    "    if row['Inactive'] == 'Y':\n",
    "        pgstat['inactive'] = True\n",
    "    else:\n",
    "        pgstat['inactive'] = False\n",
    "        \n",
    "    if row['Role'] != '-':\n",
    "        pgstat['role'] = row['Role']\n",
    "    \n",
    "    \n",
    "    stats_list.append(pgstat)\n",
    "    players.insert_one(pgstat)"
   ]
  },
  {
   "cell_type": "code",
   "execution_count": 31,
   "metadata": {},
   "outputs": [],
   "source": [
    "json_player_data = dumps(list(players.find()))\n",
    " \n",
    "with open('datajsons/playerdata.json', 'w') as file: \n",
    "    file.write(json_player_data) "
   ]
  },
  {
   "cell_type": "code",
   "execution_count": 206,
   "metadata": {},
   "outputs": [],
   "source": [
    "# # Verify results:\n",
    "# results = players.find()\n",
    "# for result in results:\n",
    "#     print(result)"
   ]
  },
  {
   "cell_type": "markdown",
   "metadata": {},
   "source": [
    "### Nonplayers (data test) into mongo"
   ]
  },
  {
   "cell_type": "code",
   "execution_count": 10,
   "metadata": {},
   "outputs": [],
   "source": [
    "nonplayers.delete_many({})\n",
    "# @TODO: rename row2 and currid2 to more descriptive vars\n",
    "np_stats = []\n",
    "for n in npdata.iterrows():\n",
    "    row2 = n[1]\n",
    "\n",
    "    try: \n",
    "        curr_id2 = int(game_ids_df[game_ids_df['str'] == row2['Game']].index[0])\n",
    "    except:\n",
    "        print(row)\n",
    "        \n",
    "    npgstat = {\n",
    "        'player_id': player_ids.get(row2['person'], 0),\n",
    "        'player_name': row2['person'],\n",
    "        'game_id': curr_id2,\n",
    "        'game_str': row2['Game'],\n",
    "                \n",
    "    }\n",
    "            \n",
    "    if row2['Spec'] == 'Y':\n",
    "        npgstat['GM'] = False\n",
    "        npgstat['spec'] = True\n",
    "        npgstat['IM'] = False\n",
    "    elif row2['GM'] == 'Y':\n",
    "        npgstat['GM'] = True\n",
    "        npgstat['spec'] = False\n",
    "        npgstat['IM'] = False\n",
    "    else:\n",
    "        npgstat['GM'] = False\n",
    "        npgstat['spec'] = False\n",
    "        npgstat['IM'] = True\n",
    "\n",
    "    \n",
    "    np_stats.append(npgstat)\n",
    "    nonplayers.insert_one(npgstat)\n",
    "    "
   ]
  },
  {
   "cell_type": "code",
   "execution_count": null,
   "metadata": {},
   "outputs": [],
   "source": [
    "# results = nonplayers.find()\n",
    "# for result in results:\n",
    "#     print(result)"
   ]
  },
  {
   "cell_type": "code",
   "execution_count": 11,
   "metadata": {},
   "outputs": [],
   "source": [
    "json_nonplayer_data = dumps(list(nonplayers.find()))\n",
    "with open('datajsons/nonplayerdata.json', 'w') as file2: \n",
    "    file2.write(json_nonplayer_data) "
   ]
  },
  {
   "cell_type": "markdown",
   "metadata": {},
   "source": [
    "### Game data (game stats) into mongo"
   ]
  },
  {
   "cell_type": "code",
   "execution_count": 191,
   "metadata": {},
   "outputs": [],
   "source": [
    "players_with_ids = realdata.merge(game_ids_df, left_on='Game', right_on='str')\n",
    "grouped_pd = players_with_ids.groupby('id', sort = False)"
   ]
  },
  {
   "cell_type": "code",
   "execution_count": 192,
   "metadata": {},
   "outputs": [
    {
     "data": {
      "text/html": [
       "<div>\n",
       "<style scoped>\n",
       "    .dataframe tbody tr th:only-of-type {\n",
       "        vertical-align: middle;\n",
       "    }\n",
       "\n",
       "    .dataframe tbody tr th {\n",
       "        vertical-align: top;\n",
       "    }\n",
       "\n",
       "    .dataframe thead th {\n",
       "        text-align: right;\n",
       "    }\n",
       "</style>\n",
       "<table border=\"1\" class=\"dataframe\">\n",
       "  <thead>\n",
       "    <tr style=\"text-align: right;\">\n",
       "      <th></th>\n",
       "      <th>str</th>\n",
       "      <th>id</th>\n",
       "      <th>format</th>\n",
       "      <th>num</th>\n",
       "      <th>Broken</th>\n",
       "      <th>num_players</th>\n",
       "    </tr>\n",
       "  </thead>\n",
       "  <tbody>\n",
       "    <tr>\n",
       "      <th>0</th>\n",
       "      <td>LG1</td>\n",
       "      <td>0</td>\n",
       "      <td>LG</td>\n",
       "      <td>1</td>\n",
       "      <td>False</td>\n",
       "      <td>16</td>\n",
       "    </tr>\n",
       "    <tr>\n",
       "      <th>1</th>\n",
       "      <td>LG2</td>\n",
       "      <td>1</td>\n",
       "      <td>LG</td>\n",
       "      <td>2</td>\n",
       "      <td>False</td>\n",
       "      <td>29</td>\n",
       "    </tr>\n",
       "    <tr>\n",
       "      <th>2</th>\n",
       "      <td>LG3</td>\n",
       "      <td>2</td>\n",
       "      <td>LG</td>\n",
       "      <td>3</td>\n",
       "      <td>True</td>\n",
       "      <td>22</td>\n",
       "    </tr>\n",
       "    <tr>\n",
       "      <th>3</th>\n",
       "      <td>LG4</td>\n",
       "      <td>3</td>\n",
       "      <td>LG</td>\n",
       "      <td>4</td>\n",
       "      <td>True</td>\n",
       "      <td>30</td>\n",
       "    </tr>\n",
       "    <tr>\n",
       "      <th>4</th>\n",
       "      <td>QF1</td>\n",
       "      <td>4</td>\n",
       "      <td>QF</td>\n",
       "      <td>1</td>\n",
       "      <td>False</td>\n",
       "      <td>12</td>\n",
       "    </tr>\n",
       "  </tbody>\n",
       "</table>\n",
       "</div>"
      ],
      "text/plain": [
       "   str  id format num  Broken  num_players\n",
       "0  LG1   0     LG   1   False           16\n",
       "1  LG2   1     LG   2   False           29\n",
       "2  LG3   2     LG   3    True           22\n",
       "3  LG4   3     LG   4    True           30\n",
       "4  QF1   4     QF   1   False           12"
      ]
     },
     "execution_count": 192,
     "metadata": {},
     "output_type": "execute_result"
    }
   ],
   "source": [
    "# Broken\n",
    "broken_games = grouped_pd['Broken'].value_counts().index\n",
    "broken_list = list(zip(*broken_games))[1]\n",
    "game_ids_df['Broken'] = [True if b == 'Y' else False for b in broken_list_yn]\n",
    "\n",
    "broken_games = grouped_pd['Broken'].value_counts()\n",
    "game_ids_df['num_players'] = list(broken_games)\n",
    "\n",
    "game_ids_df.head()"
   ]
  },
  {
   "cell_type": "code",
   "execution_count": 202,
   "metadata": {},
   "outputs": [],
   "source": [
    "relevant_gd = game_data[['Setting', 'Game Complexity', '# of Cycles']]\n",
    "\n",
    "alignment_counts = grouped_pd['Alignment'].value_counts()\n",
    "foutcome_counts = grouped_pd['fOutcome'].value_counts()\n",
    "death_counts = grouped_pd['Death'].value_counts()\n",
    "inactive_counts = grouped_pd['Inactive'].value_counts()\n",
    "#inactive_counts = players_with_ids[players_with_ids['Inactive'] == \"Y\"].groupby('id', sort=False)['Inactive'].value_counts(sort = False)\n",
    "counts = [alignment_counts, foutcome_counts, death_counts, inactive_counts, relevant_gd]\n"
   ]
  },
  {
   "cell_type": "code",
   "execution_count": 204,
   "metadata": {},
   "outputs": [
    {
     "data": {
      "text/plain": [
       "id   Inactive\n",
       "0    N           16\n",
       "1    N           29\n",
       "2    N           22\n",
       "3    N           30\n",
       "4    N           12\n",
       "                 ..\n",
       "170  N           15\n",
       "171  N           16\n",
       "172  N           23\n",
       "     Y            2\n",
       "173  N           18\n",
       "Name: Inactive, Length: 228, dtype: int64"
      ]
     },
     "execution_count": 204,
     "metadata": {},
     "output_type": "execute_result"
    }
   ],
   "source": [
    "inactive_counts"
   ]
  },
  {
   "cell_type": "code",
   "execution_count": 205,
   "metadata": {},
   "outputs": [
    {
     "ename": "ValueError",
     "evalue": "Cannot merge a Series without a name",
     "output_type": "error",
     "traceback": [
      "\u001b[1;31m---------------------------------------------------------------------------\u001b[0m",
      "\u001b[1;31mValueError\u001b[0m                                Traceback (most recent call last)",
      "\u001b[1;32m<ipython-input-205-f5839e9b11ab>\u001b[0m in \u001b[0;36m<module>\u001b[1;34m\u001b[0m\n\u001b[0;32m      3\u001b[0m \u001b[1;32mfor\u001b[0m \u001b[0mi\u001b[0m\u001b[1;33m,\u001b[0m \u001b[0mcount\u001b[0m \u001b[1;32min\u001b[0m \u001b[0menumerate\u001b[0m\u001b[1;33m(\u001b[0m\u001b[0mcounts\u001b[0m\u001b[1;33m)\u001b[0m\u001b[1;33m:\u001b[0m\u001b[1;33m\u001b[0m\u001b[1;33m\u001b[0m\u001b[0m\n\u001b[0;32m      4\u001b[0m     \u001b[0mcount_df\u001b[0m \u001b[1;33m=\u001b[0m \u001b[0mcount\u001b[0m\u001b[1;33m.\u001b[0m\u001b[0munstack\u001b[0m\u001b[1;33m(\u001b[0m\u001b[1;33m)\u001b[0m\u001b[1;33m.\u001b[0m\u001b[0mfillna\u001b[0m\u001b[1;33m(\u001b[0m\u001b[1;36m0\u001b[0m\u001b[1;33m)\u001b[0m \u001b[1;31m#.reset_index()\u001b[0m\u001b[1;33m\u001b[0m\u001b[1;33m\u001b[0m\u001b[0m\n\u001b[1;32m----> 5\u001b[1;33m     \u001b[0mgame_ids_df\u001b[0m \u001b[1;33m=\u001b[0m \u001b[0mgame_ids_df\u001b[0m\u001b[1;33m.\u001b[0m\u001b[0mmerge\u001b[0m\u001b[1;33m(\u001b[0m\u001b[0mcount_df\u001b[0m\u001b[1;33m,\u001b[0m \u001b[0mhow\u001b[0m\u001b[1;33m=\u001b[0m\u001b[1;34m'left'\u001b[0m\u001b[1;33m,\u001b[0m \u001b[0mon\u001b[0m\u001b[1;33m=\u001b[0m\u001b[1;34m'id'\u001b[0m\u001b[1;33m,\u001b[0m \u001b[0msuffixes\u001b[0m \u001b[1;33m=\u001b[0m \u001b[1;33m(\u001b[0m\u001b[1;34m''\u001b[0m\u001b[1;33m,\u001b[0m \u001b[0mcount_names\u001b[0m\u001b[1;33m[\u001b[0m\u001b[0mi\u001b[0m\u001b[1;33m]\u001b[0m\u001b[1;33m)\u001b[0m\u001b[1;33m)\u001b[0m\u001b[1;33m\u001b[0m\u001b[1;33m\u001b[0m\u001b[0m\n\u001b[0m\u001b[0;32m      6\u001b[0m \u001b[1;33m\u001b[0m\u001b[0m\n\u001b[0;32m      7\u001b[0m \u001b[0mgame_ids_df\u001b[0m\u001b[1;33m.\u001b[0m\u001b[0mhead\u001b[0m\u001b[1;33m(\u001b[0m\u001b[1;33m)\u001b[0m\u001b[1;33m\u001b[0m\u001b[1;33m\u001b[0m\u001b[0m\n",
      "\u001b[1;32mC:\\Users\\Public\\anaconda3\\lib\\site-packages\\pandas\\core\\frame.py\u001b[0m in \u001b[0;36mmerge\u001b[1;34m(self, right, how, on, left_on, right_on, left_index, right_index, sort, suffixes, copy, indicator, validate)\u001b[0m\n\u001b[0;32m   7282\u001b[0m         \u001b[1;32mfrom\u001b[0m \u001b[0mpandas\u001b[0m\u001b[1;33m.\u001b[0m\u001b[0mcore\u001b[0m\u001b[1;33m.\u001b[0m\u001b[0mreshape\u001b[0m\u001b[1;33m.\u001b[0m\u001b[0mmerge\u001b[0m \u001b[1;32mimport\u001b[0m \u001b[0mmerge\u001b[0m\u001b[1;33m\u001b[0m\u001b[1;33m\u001b[0m\u001b[0m\n\u001b[0;32m   7283\u001b[0m \u001b[1;33m\u001b[0m\u001b[0m\n\u001b[1;32m-> 7284\u001b[1;33m         return merge(\n\u001b[0m\u001b[0;32m   7285\u001b[0m             \u001b[0mself\u001b[0m\u001b[1;33m,\u001b[0m\u001b[1;33m\u001b[0m\u001b[1;33m\u001b[0m\u001b[0m\n\u001b[0;32m   7286\u001b[0m             \u001b[0mright\u001b[0m\u001b[1;33m,\u001b[0m\u001b[1;33m\u001b[0m\u001b[1;33m\u001b[0m\u001b[0m\n",
      "\u001b[1;32mC:\\Users\\Public\\anaconda3\\lib\\site-packages\\pandas\\core\\reshape\\merge.py\u001b[0m in \u001b[0;36mmerge\u001b[1;34m(left, right, how, on, left_on, right_on, left_index, right_index, sort, suffixes, copy, indicator, validate)\u001b[0m\n\u001b[0;32m     71\u001b[0m     \u001b[0mvalidate\u001b[0m\u001b[1;33m=\u001b[0m\u001b[1;32mNone\u001b[0m\u001b[1;33m,\u001b[0m\u001b[1;33m\u001b[0m\u001b[1;33m\u001b[0m\u001b[0m\n\u001b[0;32m     72\u001b[0m ) -> \"DataFrame\":\n\u001b[1;32m---> 73\u001b[1;33m     op = _MergeOperation(\n\u001b[0m\u001b[0;32m     74\u001b[0m         \u001b[0mleft\u001b[0m\u001b[1;33m,\u001b[0m\u001b[1;33m\u001b[0m\u001b[1;33m\u001b[0m\u001b[0m\n\u001b[0;32m     75\u001b[0m         \u001b[0mright\u001b[0m\u001b[1;33m,\u001b[0m\u001b[1;33m\u001b[0m\u001b[1;33m\u001b[0m\u001b[0m\n",
      "\u001b[1;32mC:\\Users\\Public\\anaconda3\\lib\\site-packages\\pandas\\core\\reshape\\merge.py\u001b[0m in \u001b[0;36m__init__\u001b[1;34m(self, left, right, how, on, left_on, right_on, axis, left_index, right_index, sort, suffixes, copy, indicator, validate)\u001b[0m\n\u001b[0;32m    570\u001b[0m     ):\n\u001b[0;32m    571\u001b[0m         \u001b[0m_left\u001b[0m \u001b[1;33m=\u001b[0m \u001b[0m_validate_operand\u001b[0m\u001b[1;33m(\u001b[0m\u001b[0mleft\u001b[0m\u001b[1;33m)\u001b[0m\u001b[1;33m\u001b[0m\u001b[1;33m\u001b[0m\u001b[0m\n\u001b[1;32m--> 572\u001b[1;33m         \u001b[0m_right\u001b[0m \u001b[1;33m=\u001b[0m \u001b[0m_validate_operand\u001b[0m\u001b[1;33m(\u001b[0m\u001b[0mright\u001b[0m\u001b[1;33m)\u001b[0m\u001b[1;33m\u001b[0m\u001b[1;33m\u001b[0m\u001b[0m\n\u001b[0m\u001b[0;32m    573\u001b[0m         \u001b[0mself\u001b[0m\u001b[1;33m.\u001b[0m\u001b[0mleft\u001b[0m \u001b[1;33m=\u001b[0m \u001b[0mself\u001b[0m\u001b[1;33m.\u001b[0m\u001b[0morig_left\u001b[0m \u001b[1;33m=\u001b[0m \u001b[0m_left\u001b[0m\u001b[1;33m\u001b[0m\u001b[1;33m\u001b[0m\u001b[0m\n\u001b[0;32m    574\u001b[0m         \u001b[0mself\u001b[0m\u001b[1;33m.\u001b[0m\u001b[0mright\u001b[0m \u001b[1;33m=\u001b[0m \u001b[0mself\u001b[0m\u001b[1;33m.\u001b[0m\u001b[0morig_right\u001b[0m \u001b[1;33m=\u001b[0m \u001b[0m_right\u001b[0m\u001b[1;33m\u001b[0m\u001b[1;33m\u001b[0m\u001b[0m\n",
      "\u001b[1;32mC:\\Users\\Public\\anaconda3\\lib\\site-packages\\pandas\\core\\reshape\\merge.py\u001b[0m in \u001b[0;36m_validate_operand\u001b[1;34m(obj)\u001b[0m\n\u001b[0;32m   2000\u001b[0m     \u001b[1;32melif\u001b[0m \u001b[0misinstance\u001b[0m\u001b[1;33m(\u001b[0m\u001b[0mobj\u001b[0m\u001b[1;33m,\u001b[0m \u001b[0mABCSeries\u001b[0m\u001b[1;33m)\u001b[0m\u001b[1;33m:\u001b[0m\u001b[1;33m\u001b[0m\u001b[1;33m\u001b[0m\u001b[0m\n\u001b[0;32m   2001\u001b[0m         \u001b[1;32mif\u001b[0m \u001b[0mobj\u001b[0m\u001b[1;33m.\u001b[0m\u001b[0mname\u001b[0m \u001b[1;32mis\u001b[0m \u001b[1;32mNone\u001b[0m\u001b[1;33m:\u001b[0m\u001b[1;33m\u001b[0m\u001b[1;33m\u001b[0m\u001b[0m\n\u001b[1;32m-> 2002\u001b[1;33m             \u001b[1;32mraise\u001b[0m \u001b[0mValueError\u001b[0m\u001b[1;33m(\u001b[0m\u001b[1;34m\"Cannot merge a Series without a name\"\u001b[0m\u001b[1;33m)\u001b[0m\u001b[1;33m\u001b[0m\u001b[1;33m\u001b[0m\u001b[0m\n\u001b[0m\u001b[0;32m   2003\u001b[0m         \u001b[1;32melse\u001b[0m\u001b[1;33m:\u001b[0m\u001b[1;33m\u001b[0m\u001b[1;33m\u001b[0m\u001b[0m\n\u001b[0;32m   2004\u001b[0m             \u001b[1;32mreturn\u001b[0m \u001b[0mobj\u001b[0m\u001b[1;33m.\u001b[0m\u001b[0mto_frame\u001b[0m\u001b[1;33m(\u001b[0m\u001b[1;33m)\u001b[0m\u001b[1;33m\u001b[0m\u001b[1;33m\u001b[0m\u001b[0m\n",
      "\u001b[1;31mValueError\u001b[0m: Cannot merge a Series without a name"
     ]
    }
   ],
   "source": [
    "\n",
    "count_names = ['_align', '_win', '_death', '_inactive', '']\n",
    "\n",
    "for i, count in enumerate(counts): \n",
    "    count_df = count.unstack().fillna(0)\n",
    "    game_ids_df = game_ids_df.merge(count_df, how='left', left_index=True, right_index=True, suffixes = ('', count_names[i]))\n",
    "\n",
    "game_ids_df.head()"
   ]
  },
  {
   "cell_type": "code",
   "execution_count": 188,
   "metadata": {},
   "outputs": [
    {
     "data": {
      "text/html": [
       "<div>\n",
       "<style scoped>\n",
       "    .dataframe tbody tr th:only-of-type {\n",
       "        vertical-align: middle;\n",
       "    }\n",
       "\n",
       "    .dataframe tbody tr th {\n",
       "        vertical-align: top;\n",
       "    }\n",
       "\n",
       "    .dataframe thead th {\n",
       "        text-align: right;\n",
       "    }\n",
       "</style>\n",
       "<table border=\"1\" class=\"dataframe\">\n",
       "  <thead>\n",
       "    <tr style=\"text-align: right;\">\n",
       "      <th></th>\n",
       "      <th>Setting</th>\n",
       "      <th>Game Complexity</th>\n",
       "      <th># of Cycles</th>\n",
       "    </tr>\n",
       "  </thead>\n",
       "  <tbody>\n",
       "    <tr>\n",
       "      <th>0</th>\n",
       "      <td>Cosmere</td>\n",
       "      <td>Basic</td>\n",
       "      <td>4</td>\n",
       "    </tr>\n",
       "    <tr>\n",
       "      <th>1</th>\n",
       "      <td>Cosmere</td>\n",
       "      <td>Standard</td>\n",
       "      <td>11</td>\n",
       "    </tr>\n",
       "    <tr>\n",
       "      <th>2</th>\n",
       "      <td>Cosmere</td>\n",
       "      <td>Basic</td>\n",
       "      <td>7</td>\n",
       "    </tr>\n",
       "    <tr>\n",
       "      <th>3</th>\n",
       "      <td>Cosmere</td>\n",
       "      <td>Standard</td>\n",
       "      <td>9</td>\n",
       "    </tr>\n",
       "    <tr>\n",
       "      <th>4</th>\n",
       "      <td>Cosmere</td>\n",
       "      <td>Basic</td>\n",
       "      <td>4</td>\n",
       "    </tr>\n",
       "  </tbody>\n",
       "</table>\n",
       "</div>"
      ],
      "text/plain": [
       "   Setting Game Complexity # of Cycles\n",
       "0  Cosmere           Basic           4\n",
       "1  Cosmere        Standard          11\n",
       "2  Cosmere           Basic           7\n",
       "3  Cosmere        Standard           9\n",
       "4  Cosmere           Basic           4"
      ]
     },
     "execution_count": 188,
     "metadata": {},
     "output_type": "execute_result"
    }
   ],
   "source": []
  },
  {
   "cell_type": "code",
   "execution_count": 174,
   "metadata": {},
   "outputs": [],
   "source": [
    "games.delete_many({})\n",
    "\n",
    "game_stats = []\n",
    "\n",
    "align_list = ['G', 'E', 'B', 'F', 'D', 'M', 'N', 'C', 'S']\n",
    "outcome_list = ['L', 'W', 'D_win']\n",
    "death_list = ['E_death', 'L_death', 'V', 'S_death', 'F_death', 'N_death', 'M_death', 'I', 'D_death', 'O']\n",
    "\n",
    "for n in game_ids_df.iterrows():\n",
    "    item = n[1]\n",
    " \n",
    "    \n",
    "    aligns = {k:item[k] for k in align_list if item[k] > 0}\n",
    "    outcomes = {k:item[k] for k in outcome_list if item[k] > 0}\n",
    "    deaths = {k:item[k] for k in death_list if item[k] > 0}\n",
    "        \n",
    "        \n",
    "    gstat = {\n",
    "\n",
    "        'game_id': item['id'],\n",
    "        'game_str': item['str'],\n",
    "        'format': item['format'],\n",
    "        'game_num': item['num'],\n",
    "        'broken': item['Broken'],\n",
    "        'num_players': item['num_players'],\n",
    "        'alignment_counts': aligns,\n",
    "        'outcome_counts': outcomes,\n",
    "        'status_counts': deaths,\n",
    "        'inactives': item['Y']\n",
    "            \n",
    "        }\n",
    "                \n",
    "    game_stats.append(gstat)\n",
    "    \n",
    "    games.insert_one(gstat)\n",
    "    \n",
    "            "
   ]
  },
  {
   "cell_type": "code",
   "execution_count": 176,
   "metadata": {},
   "outputs": [
    {
     "data": {
      "text/plain": [
       "{'game_id': 0,\n",
       " 'game_str': 'LG1',\n",
       " 'format': 'LG',\n",
       " 'game_num': '1',\n",
       " 'broken': False,\n",
       " 'num_players': 16,\n",
       " 'alignment_counts': {'G': 12.0, 'E': 4.0},\n",
       " 'outcome_counts': {'L': 12.0, 'W': 4.0},\n",
       " 'status_counts': {'E_death': 5.0, 'L_death': 4.0, 'V': 1.0, 'S_death': 6.0},\n",
       " 'inactives': nan,\n",
       " '_id': ObjectId('5ffe6d7f95bedd8f2649a021')}"
      ]
     },
     "execution_count": 176,
     "metadata": {},
     "output_type": "execute_result"
    }
   ],
   "source": [
    "game_stats[0]"
   ]
  },
  {
   "cell_type": "code",
   "execution_count": 177,
   "metadata": {},
   "outputs": [
    {
     "data": {
      "text/plain": [
       "Index(['Unnamed: 0', 'Game', '# of Players', 'Total Rank', '# of Spectators',\n",
       "       'Rank', '# of E. Kills', '# of Neutral Evil Kils', '# of V. Kills',\n",
       "       '# of Lynches', '# of FF Deaths', '# of Neutral Deaths',\n",
       "       '# of Inactive Deaths', '# of Deaths', 'Rank.1', '# of Eliminators',\n",
       "       'Eliminator Percentage', 'Eliminators Lynched', 'Eliminators Vig'd',\n",
       "       'Thread Reply Count', 'Thread Reply Rank', 'Setting', 'Game Complexity',\n",
       "       '# of Cycles', 'Winning Team', '# of Survivors', 'Total Rank.1',\n",
       "       'Survivors'],\n",
       "      dtype='object')"
      ]
     },
     "execution_count": 177,
     "metadata": {},
     "output_type": "execute_result"
    }
   ],
   "source": [
    "game_data.columns\n",
    "# 'Eliminators Lynched', 'Eliminators Vig'd' - breakdown by alignment + death type?\n",
    "\n",
    "['Setting', 'Game Complexity', '# of Cycles'] # from game data\n",
    "['mod', 'GM(s)', 'Spectator(s)'] # from nonplayer data\n",
    "# start and end dates"
   ]
  },
  {
   "cell_type": "code",
   "execution_count": null,
   "metadata": {},
   "outputs": [],
   "source": []
  }
 ],
 "metadata": {
  "kernelspec": {
   "display_name": "Python 3",
   "language": "python",
   "name": "python3"
  },
  "language_info": {
   "codemirror_mode": {
    "name": "ipython",
    "version": 3
   },
   "file_extension": ".py",
   "mimetype": "text/x-python",
   "name": "python",
   "nbconvert_exporter": "python",
   "pygments_lexer": "ipython3",
   "version": "3.8.3"
  }
 },
 "nbformat": 4,
 "nbformat_minor": 4
}

{
 "cells": [
  {
   "cell_type": "code",
   "execution_count": 3,
   "metadata": {},
   "outputs": [],
   "source": [
    "# Dependencies\n",
    "import pymongo\n",
    "import datetime\n",
    "import pandas as pd\n",
    "\n",
    "# The default port used by MongoDB is 27017\n",
    "# https://docs.mongodb.com/manual/reference/default-mongodb-port/\n",
    "conn = 'mongodb://localhost:27017'\n",
    "client = pymongo.MongoClient(conn)\n",
    "\n",
    "# Declare the database\n",
    "db = client.se_db\n",
    "\n",
    "# Declare the collection\n",
    "players = db.players_db\n",
    "nonplayers = db.nonplayers_db"
   ]
  },
  {
   "cell_type": "code",
   "execution_count": 53,
   "metadata": {},
   "outputs": [
    {
     "data": {
      "text/html": [
       "<div>\n",
       "<style scoped>\n",
       "    .dataframe tbody tr th:only-of-type {\n",
       "        vertical-align: middle;\n",
       "    }\n",
       "\n",
       "    .dataframe tbody tr th {\n",
       "        vertical-align: top;\n",
       "    }\n",
       "\n",
       "    .dataframe thead th {\n",
       "        text-align: right;\n",
       "    }\n",
       "</style>\n",
       "<table border=\"1\" class=\"dataframe\">\n",
       "  <thead>\n",
       "    <tr style=\"text-align: right;\">\n",
       "      <th></th>\n",
       "      <th>person</th>\n",
       "      <th>Alignment</th>\n",
       "      <th>fOutcome</th>\n",
       "      <th>Hit1</th>\n",
       "      <th>HitL</th>\n",
       "      <th>HitNum</th>\n",
       "      <th>Death</th>\n",
       "      <th>Inactive</th>\n",
       "      <th>gtype</th>\n",
       "      <th>GameNum</th>\n",
       "      <th>Game</th>\n",
       "      <th>Broken</th>\n",
       "      <th>Role</th>\n",
       "    </tr>\n",
       "  </thead>\n",
       "  <tbody>\n",
       "    <tr>\n",
       "      <th>0</th>\n",
       "      <td>Cracknut</td>\n",
       "      <td>G</td>\n",
       "      <td>L</td>\n",
       "      <td>1.0</td>\n",
       "      <td>1.0</td>\n",
       "      <td>1.0</td>\n",
       "      <td>E</td>\n",
       "      <td>N</td>\n",
       "      <td>LG</td>\n",
       "      <td>1.0</td>\n",
       "      <td>LG1</td>\n",
       "      <td>N</td>\n",
       "      <td>Tineye</td>\n",
       "    </tr>\n",
       "    <tr>\n",
       "      <th>1</th>\n",
       "      <td>Edgedancer</td>\n",
       "      <td>G</td>\n",
       "      <td>L</td>\n",
       "      <td>2.0</td>\n",
       "      <td>2.0</td>\n",
       "      <td>1.0</td>\n",
       "      <td>L</td>\n",
       "      <td>N</td>\n",
       "      <td>LG</td>\n",
       "      <td>1.0</td>\n",
       "      <td>LG1</td>\n",
       "      <td>N</td>\n",
       "      <td>Cop</td>\n",
       "    </tr>\n",
       "    <tr>\n",
       "      <th>2</th>\n",
       "      <td>Mailliw73</td>\n",
       "      <td>G</td>\n",
       "      <td>L</td>\n",
       "      <td>4.0</td>\n",
       "      <td>4.0</td>\n",
       "      <td>1.0</td>\n",
       "      <td>L</td>\n",
       "      <td>N</td>\n",
       "      <td>LG</td>\n",
       "      <td>1.0</td>\n",
       "      <td>LG1</td>\n",
       "      <td>N</td>\n",
       "      <td>Regular</td>\n",
       "    </tr>\n",
       "    <tr>\n",
       "      <th>3</th>\n",
       "      <td>Aether</td>\n",
       "      <td>E</td>\n",
       "      <td>W</td>\n",
       "      <td>4.0</td>\n",
       "      <td>4.0</td>\n",
       "      <td>1.0</td>\n",
       "      <td>V</td>\n",
       "      <td>N</td>\n",
       "      <td>LG</td>\n",
       "      <td>1.0</td>\n",
       "      <td>LG1</td>\n",
       "      <td>N</td>\n",
       "      <td>Smoker</td>\n",
       "    </tr>\n",
       "    <tr>\n",
       "      <th>4</th>\n",
       "      <td>Claincy</td>\n",
       "      <td>E</td>\n",
       "      <td>W</td>\n",
       "      <td>-</td>\n",
       "      <td>-</td>\n",
       "      <td>0.0</td>\n",
       "      <td>S</td>\n",
       "      <td>N</td>\n",
       "      <td>LG</td>\n",
       "      <td>1.0</td>\n",
       "      <td>LG1</td>\n",
       "      <td>N</td>\n",
       "      <td>Vote Cancel</td>\n",
       "    </tr>\n",
       "  </tbody>\n",
       "</table>\n",
       "</div>"
      ],
      "text/plain": [
       "       person Alignment fOutcome Hit1 HitL HitNum Death Inactive gtype  \\\n",
       "0    Cracknut         G        L  1.0  1.0    1.0     E        N    LG   \n",
       "1  Edgedancer         G        L  2.0  2.0    1.0     L        N    LG   \n",
       "2   Mailliw73         G        L  4.0  4.0    1.0     L        N    LG   \n",
       "3      Aether         E        W  4.0  4.0    1.0     V        N    LG   \n",
       "4     Claincy         E        W    -    -    0.0     S        N    LG   \n",
       "\n",
       "   GameNum Game Broken         Role  \n",
       "0      1.0  LG1      N       Tineye  \n",
       "1      1.0  LG1      N          Cop  \n",
       "2      1.0  LG1      N      Regular  \n",
       "3      1.0  LG1      N       Smoker  \n",
       "4      1.0  LG1      N  Vote Cancel  "
      ]
     },
     "execution_count": 53,
     "metadata": {},
     "output_type": "execute_result"
    }
   ],
   "source": [
    "player_path = \"CleanPlayerData.csv\"\n",
    "playerdata = pd.read_csv(player_path)\n",
    "\n",
    "playerlist = playerdata['person'].unique()\n",
    "player_ids = {p:(i+1) for i,p in enumerate(playerlist)}\n",
    "\n",
    "gamelist = playerdata['Game'].unique()\n",
    "game_ids = []\n",
    "\n",
    "for i, g in enumerate(gamelist):\n",
    "    if type(g) == str:\n",
    "        curr_game = {\n",
    "            'str':g,\n",
    "            'id':i,\n",
    "            'format':g[0:2],\n",
    "            'num':g[2:]\n",
    "        }\n",
    "        game_ids.append(curr_game)\n",
    "#     else:\n",
    "#         print(g)\n",
    "\n",
    "\n",
    "playerdata.head()"
   ]
  },
  {
   "cell_type": "code",
   "execution_count": 22,
   "metadata": {
    "scrolled": true
   },
   "outputs": [
    {
     "data": {
      "text/plain": [
       "int"
      ]
     },
     "execution_count": 22,
     "metadata": {},
     "output_type": "execute_result"
    }
   ],
   "source": [
    "nonplayer_path = \"NonPlayerData.csv\"\n",
    "npdata = pd.read_csv(nonplayer_path)\n",
    "npdata.head()\n",
    "len(npdata)"
   ]
  },
  {
   "cell_type": "code",
   "execution_count": 62,
   "metadata": {
    "scrolled": true
   },
   "outputs": [
    {
     "data": {
      "text/plain": [
       "-                     3536\n",
       "Regular                331\n",
       "Double Life             50\n",
       "Kill                    43\n",
       "Protect                 35\n",
       "Misc                    24\n",
       "Jack of All Trades      24\n",
       "Vote Move               21\n",
       "Smoker                  21\n",
       "Cop                     18\n",
       "Vote Cancel             18\n",
       "Doctor                  18\n",
       "Role Cop                17\n",
       "Roleblock               15\n",
       "Alignment Cop           12\n",
       "Redirect                11\n",
       "Misc Cop                11\n",
       "PM Creator              10\n",
       "Tineye                  10\n",
       "Action Cop               9\n",
       "PM Spy                   8\n",
       "Poisoner                 6\n",
       "Vote Manip               6\n",
       "Vote Change              5\n",
       "Mass PMs                 5\n",
       "False Scan               5\n",
       "Conversion               4\n",
       "Writeup Messages         4\n",
       "Matchmaker               4\n",
       "Double Vote              4\n",
       "Inventor                 3\n",
       "Kandra                   3\n",
       "Lynch Protect            3\n",
       "Beggar                   3\n",
       "Serial Killer            2\n",
       "Legionnaire              2\n",
       "Vote Protection          2\n",
       "Self Protect             2\n",
       "Bodyguard                2\n",
       "Untargetable             2\n",
       "Misc?                    2\n",
       "Sacrifice                2\n",
       "Item Cop                 2\n",
       "Thief                    1\n",
       "Jester                   1\n",
       "Scan Protection          1\n",
       "Name: Role, dtype: int64"
      ]
     },
     "execution_count": 62,
     "metadata": {},
     "output_type": "execute_result"
    }
   ],
   "source": [
    "playerdata['Role'].value_counts()"
   ]
  },
  {
   "cell_type": "code",
   "execution_count": 60,
   "metadata": {},
   "outputs": [],
   "source": [
    "game_ids_df = pd.DataFrame(game_ids)\n",
    "# game_ids_df.head()\n",
    "# gotta add other stuff / combine this into game stats thing, also Broken, start & end date, title, GM/IM, "
   ]
  },
  {
   "cell_type": "code",
   "execution_count": null,
   "metadata": {},
   "outputs": [],
   "source": [
    "stats_list = []\n",
    "\n",
    "for p in range(len(playerdata)):\n",
    "    row = next(playerdata.iterrows()[1])\n",
    "    \n",
    "    pgstat = {\n",
    "        'player_id': player_ids.get(row['person'], 0),\n",
    "        'player_name': row['person'],\n",
    "        'game_id': game_ids_df[game_ids_df['str'] == row['Game']],\n",
    "        'game_str': row['Game'],\n",
    "        'alignment': row['Alignment'],\n",
    "        'fOutcome': row['fOutcome'],\n",
    "        'death': row['Death'],        \n",
    "    }\n",
    "    if row['HitNum'] != '-':\n",
    "        pgstat['HitNum'] = row['HitNum']\n",
    "        \n",
    "        if row['Hit1'] != '-' :\n",
    "            pgstat['Hit1'] = row['Hit1']\n",
    "            pgstat['HitL'] = row['HitL']\n",
    "            \n",
    "    if row[Inactive] == 'Y':\n",
    "        pgstat['inactive'] = True\n",
    "    else:\n",
    "        pgstat['inactive'] = False\n",
    "        \n",
    "    if row['Role'] != '-':\n",
    "        pgstat['role'] = row['Role']\n",
    "    \n",
    "    stats_list.append(pgstat)\n",
    "    \n",
    "    \n",
    "\n",
    "\n",
    "\n",
    "# Insert document into collection\n",
    "fruits.insert_one(post)"
   ]
  },
  {
   "cell_type": "code",
   "execution_count": 14,
   "metadata": {},
   "outputs": [
    {
     "data": {
      "text/plain": [
       "person       Cracknut\n",
       "Alignment           G\n",
       "fOutcome            L\n",
       "Hit1              1.0\n",
       "HitL              1.0\n",
       "HitNum            1.0\n",
       "Death               E\n",
       "Inactive            N\n",
       "gtype              LG\n",
       "GameNum             1\n",
       "Game              LG1\n",
       "Broken              N\n",
       "Role           Tineye\n",
       "Name: 0, dtype: object"
      ]
     },
     "execution_count": 14,
     "metadata": {},
     "output_type": "execute_result"
    }
   ],
   "source": [
    "next(playerdata.iterrows())[1]"
   ]
  },
  {
   "cell_type": "code",
   "execution_count": null,
   "metadata": {},
   "outputs": [],
   "source": []
  },
  {
   "cell_type": "code",
   "execution_count": null,
   "metadata": {},
   "outputs": [],
   "source": []
  }
 ],
 "metadata": {
  "kernelspec": {
   "display_name": "Python 3",
   "language": "python",
   "name": "python3"
  },
  "language_info": {
   "codemirror_mode": {
    "name": "ipython",
    "version": 3
   },
   "file_extension": ".py",
   "mimetype": "text/x-python",
   "name": "python",
   "nbconvert_exporter": "python",
   "pygments_lexer": "ipython3",
   "version": "3.8.3"
  }
 },
 "nbformat": 4,
 "nbformat_minor": 4
}
